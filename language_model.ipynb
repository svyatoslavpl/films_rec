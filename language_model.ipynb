{
 "cells": [
  {
   "cell_type": "code",
   "execution_count": 1,
   "metadata": {
    "execution": {
     "iopub.execute_input": "2023-05-28T14:34:15.505010Z",
     "iopub.status.busy": "2023-05-28T14:34:15.504100Z",
     "iopub.status.idle": "2023-05-28T14:34:27.906513Z",
     "shell.execute_reply": "2023-05-28T14:34:27.905251Z",
     "shell.execute_reply.started": "2023-05-28T14:34:15.504961Z"
    }
   },
   "outputs": [
    {
     "name": "stderr",
     "output_type": "stream",
     "text": [
      "/opt/conda/lib/python3.10/site-packages/tensorflow_io/python/ops/__init__.py:98: UserWarning: unable to load libtensorflow_io_plugins.so: unable to open file: libtensorflow_io_plugins.so, from paths: ['/opt/conda/lib/python3.10/site-packages/tensorflow_io/python/ops/libtensorflow_io_plugins.so']\n",
      "caused by: ['/opt/conda/lib/python3.10/site-packages/tensorflow_io/python/ops/libtensorflow_io_plugins.so: undefined symbol: _ZN3tsl6StatusC1EN10tensorflow5error4CodeESt17basic_string_viewIcSt11char_traitsIcEENS_14SourceLocationE']\n",
      "  warnings.warn(f\"unable to load libtensorflow_io_plugins.so: {e}\")\n",
      "/opt/conda/lib/python3.10/site-packages/tensorflow_io/python/ops/__init__.py:104: UserWarning: file system plugins are not loaded: unable to open file: libtensorflow_io.so, from paths: ['/opt/conda/lib/python3.10/site-packages/tensorflow_io/python/ops/libtensorflow_io.so']\n",
      "caused by: ['/opt/conda/lib/python3.10/site-packages/tensorflow_io/python/ops/libtensorflow_io.so: undefined symbol: _ZTVN10tensorflow13GcsFileSystemE']\n",
      "  warnings.warn(f\"file system plugins are not loaded: {e}\")\n"
     ]
    }
   ],
   "source": [
    "from sklearn.datasets import fetch_20newsgroups\n",
    "from nltk.tokenize import word_tokenize #Used to extract words from documents\n",
    "from nltk.stem import WordNetLemmatizer #Used to lemmatize words\n",
    "from sklearn.feature_extraction.text import TfidfVectorizer\n",
    "from sklearn.pipeline import make_pipeline\n",
    "from sklearn.preprocessing import Normalizer\n",
    "from sklearn import metrics\n",
    "\n",
    "from sklearn.cluster import KMeans\n",
    "\n",
    "import sys\n",
    "from time import time\n",
    "\n",
    "import pandas as pd\n",
    "import numpy as np\n",
    "\n",
    "\n",
    "import tensorflow_hub as hub\n",
    "from sklearn.cluster import KMeans\n",
    "import time\n",
    "from sklearn.model_selection import train_test_split\n",
    "from sklearn import metrics\n",
    "from sklearn.model_selection import KFold\n",
    "from sklearn.metrics.pairwise import cosine_similarity"
   ]
  },
  {
   "cell_type": "code",
   "execution_count": 14,
   "metadata": {
    "execution": {
     "iopub.execute_input": "2023-05-28T14:53:34.884450Z",
     "iopub.status.busy": "2023-05-28T14:53:34.884059Z",
     "iopub.status.idle": "2023-05-28T14:53:35.526090Z",
     "shell.execute_reply": "2023-05-28T14:53:35.524927Z",
     "shell.execute_reply.started": "2023-05-28T14:53:34.884422Z"
    }
   },
   "outputs": [],
   "source": [
    "data1 = pd.read_csv('/kaggle/input/films-classification/train.csv')"
   ]
  },
  {
   "cell_type": "code",
   "execution_count": 4,
   "metadata": {
    "execution": {
     "iopub.execute_input": "2023-04-30T12:53:49.100172Z",
     "iopub.status.busy": "2023-04-30T12:53:49.099797Z",
     "iopub.status.idle": "2023-04-30T12:53:49.126239Z",
     "shell.execute_reply": "2023-04-30T12:53:49.125194Z",
     "shell.execute_reply.started": "2023-04-30T12:53:49.100136Z"
    }
   },
   "outputs": [
    {
     "data": {
      "text/html": [
       "<div>\n",
       "<style scoped>\n",
       "    .dataframe tbody tr th:only-of-type {\n",
       "        vertical-align: middle;\n",
       "    }\n",
       "\n",
       "    .dataframe tbody tr th {\n",
       "        vertical-align: top;\n",
       "    }\n",
       "\n",
       "    .dataframe thead th {\n",
       "        text-align: right;\n",
       "    }\n",
       "</style>\n",
       "<table border=\"1\" class=\"dataframe\">\n",
       "  <thead>\n",
       "    <tr style=\"text-align: right;\">\n",
       "      <th></th>\n",
       "      <th>name</th>\n",
       "      <th>genre</th>\n",
       "      <th>text</th>\n",
       "    </tr>\n",
       "  </thead>\n",
       "  <tbody>\n",
       "    <tr>\n",
       "      <th>0</th>\n",
       "      <td>Oscar et la dame rose (2009)</td>\n",
       "      <td>drama</td>\n",
       "      <td>Listening in to a conversation between his do...</td>\n",
       "    </tr>\n",
       "    <tr>\n",
       "      <th>1</th>\n",
       "      <td>Cupid (1997)</td>\n",
       "      <td>thriller</td>\n",
       "      <td>A brother and sister with a past incestuous r...</td>\n",
       "    </tr>\n",
       "    <tr>\n",
       "      <th>2</th>\n",
       "      <td>Young, Wild and Wonderful (1980)</td>\n",
       "      <td>adult</td>\n",
       "      <td>As the bus empties the students for their fie...</td>\n",
       "    </tr>\n",
       "    <tr>\n",
       "      <th>3</th>\n",
       "      <td>The Secret Sin (1915)</td>\n",
       "      <td>drama</td>\n",
       "      <td>To help their unemployed father make ends mee...</td>\n",
       "    </tr>\n",
       "    <tr>\n",
       "      <th>4</th>\n",
       "      <td>The Unrecovered (2007)</td>\n",
       "      <td>drama</td>\n",
       "      <td>The film's title refers not only to the un-re...</td>\n",
       "    </tr>\n",
       "    <tr>\n",
       "      <th>...</th>\n",
       "      <td>...</td>\n",
       "      <td>...</td>\n",
       "      <td>...</td>\n",
       "    </tr>\n",
       "    <tr>\n",
       "      <th>54209</th>\n",
       "      <td>\"Bonino\" (1953)</td>\n",
       "      <td>comedy</td>\n",
       "      <td>This short-lived NBC live sitcom centered on ...</td>\n",
       "    </tr>\n",
       "    <tr>\n",
       "      <th>54210</th>\n",
       "      <td>Dead Girls Don't Cry (????)</td>\n",
       "      <td>horror</td>\n",
       "      <td>The NEXT Generation of EXPLOITATION. The sist...</td>\n",
       "    </tr>\n",
       "    <tr>\n",
       "      <th>54211</th>\n",
       "      <td>Ronald Goedemondt: Ze bestaan echt (2008)</td>\n",
       "      <td>documentary</td>\n",
       "      <td>Ze bestaan echt, is a stand-up comedy about g...</td>\n",
       "    </tr>\n",
       "    <tr>\n",
       "      <th>54212</th>\n",
       "      <td>Make Your Own Bed (1944)</td>\n",
       "      <td>comedy</td>\n",
       "      <td>Walter and Vivian live in the country and hav...</td>\n",
       "    </tr>\n",
       "    <tr>\n",
       "      <th>54213</th>\n",
       "      <td>Nature's Fury: Storm of the Century (2006)</td>\n",
       "      <td>history</td>\n",
       "      <td>On Labor Day Weekend, 1935, the most intense ...</td>\n",
       "    </tr>\n",
       "  </tbody>\n",
       "</table>\n",
       "<p>54214 rows × 3 columns</p>\n",
       "</div>"
      ],
      "text/plain": [
       "                                               name        genre  \\\n",
       "0                     Oscar et la dame rose (2009)         drama   \n",
       "1                                     Cupid (1997)      thriller   \n",
       "2                 Young, Wild and Wonderful (1980)         adult   \n",
       "3                            The Secret Sin (1915)         drama   \n",
       "4                           The Unrecovered (2007)         drama   \n",
       "...                                             ...          ...   \n",
       "54209                              \"Bonino\" (1953)        comedy   \n",
       "54210                  Dead Girls Don't Cry (????)        horror   \n",
       "54211    Ronald Goedemondt: Ze bestaan echt (2008)   documentary   \n",
       "54212                     Make Your Own Bed (1944)        comedy   \n",
       "54213   Nature's Fury: Storm of the Century (2006)       history   \n",
       "\n",
       "                                                    text  \n",
       "0       Listening in to a conversation between his do...  \n",
       "1       A brother and sister with a past incestuous r...  \n",
       "2       As the bus empties the students for their fie...  \n",
       "3       To help their unemployed father make ends mee...  \n",
       "4       The film's title refers not only to the un-re...  \n",
       "...                                                  ...  \n",
       "54209   This short-lived NBC live sitcom centered on ...  \n",
       "54210   The NEXT Generation of EXPLOITATION. The sist...  \n",
       "54211   Ze bestaan echt, is a stand-up comedy about g...  \n",
       "54212   Walter and Vivian live in the country and hav...  \n",
       "54213   On Labor Day Weekend, 1935, the most intense ...  \n",
       "\n",
       "[54214 rows x 3 columns]"
      ]
     },
     "execution_count": 4,
     "metadata": {},
     "output_type": "execute_result"
    }
   ],
   "source": [
    "data"
   ]
  },
  {
   "cell_type": "code",
   "execution_count": 25,
   "metadata": {
    "execution": {
     "iopub.execute_input": "2023-05-28T14:58:23.592214Z",
     "iopub.status.busy": "2023-05-28T14:58:23.591829Z",
     "iopub.status.idle": "2023-05-28T14:58:23.608094Z",
     "shell.execute_reply": "2023-05-28T14:58:23.606965Z",
     "shell.execute_reply.started": "2023-05-28T14:58:23.592186Z"
    }
   },
   "outputs": [
    {
     "data": {
      "text/html": [
       "<div>\n",
       "<style scoped>\n",
       "    .dataframe tbody tr th:only-of-type {\n",
       "        vertical-align: middle;\n",
       "    }\n",
       "\n",
       "    .dataframe tbody tr th {\n",
       "        vertical-align: top;\n",
       "    }\n",
       "\n",
       "    .dataframe thead th {\n",
       "        text-align: right;\n",
       "    }\n",
       "</style>\n",
       "<table border=\"1\" class=\"dataframe\">\n",
       "  <thead>\n",
       "    <tr style=\"text-align: right;\">\n",
       "      <th></th>\n",
       "      <th>name</th>\n",
       "      <th>genre</th>\n",
       "      <th>text</th>\n",
       "    </tr>\n",
       "  </thead>\n",
       "  <tbody>\n",
       "    <tr>\n",
       "      <th>0</th>\n",
       "      <td>Oscar et la dame rose (2009)</td>\n",
       "      <td>drama</td>\n",
       "      <td>Listening in to a conversation between his do...</td>\n",
       "    </tr>\n",
       "    <tr>\n",
       "      <th>1</th>\n",
       "      <td>Cupid (1997)</td>\n",
       "      <td>thriller</td>\n",
       "      <td>A brother and sister with a past incestuous r...</td>\n",
       "    </tr>\n",
       "    <tr>\n",
       "      <th>2</th>\n",
       "      <td>Young, Wild and Wonderful (1980)</td>\n",
       "      <td>adult</td>\n",
       "      <td>As the bus empties the students for their fie...</td>\n",
       "    </tr>\n",
       "    <tr>\n",
       "      <th>3</th>\n",
       "      <td>The Secret Sin (1915)</td>\n",
       "      <td>drama</td>\n",
       "      <td>To help their unemployed father make ends mee...</td>\n",
       "    </tr>\n",
       "    <tr>\n",
       "      <th>4</th>\n",
       "      <td>The Unrecovered (2007)</td>\n",
       "      <td>drama</td>\n",
       "      <td>The film's title refers not only to the un-re...</td>\n",
       "    </tr>\n",
       "    <tr>\n",
       "      <th>...</th>\n",
       "      <td>...</td>\n",
       "      <td>...</td>\n",
       "      <td>...</td>\n",
       "    </tr>\n",
       "    <tr>\n",
       "      <th>9995</th>\n",
       "      <td>\"Friday Night Cranks\" (2007/I)</td>\n",
       "      <td>reality-tv</td>\n",
       "      <td>The show began with Jared and Kristen in 2007...</td>\n",
       "    </tr>\n",
       "    <tr>\n",
       "      <th>9996</th>\n",
       "      <td>Donkey in the City: 3D Animation Film (????)</td>\n",
       "      <td>animation</td>\n",
       "      <td>The center characters of the film are two kid...</td>\n",
       "    </tr>\n",
       "    <tr>\n",
       "      <th>9997</th>\n",
       "      <td>Ashland (2007)</td>\n",
       "      <td>drama</td>\n",
       "      <td>Ashland is the story of Ash Slavin, a lonely ...</td>\n",
       "    </tr>\n",
       "    <tr>\n",
       "      <th>9998</th>\n",
       "      <td>Whispering Smith (1926)</td>\n",
       "      <td>western</td>\n",
       "      <td>Railroad foreman Murray Sinclair is dismissed...</td>\n",
       "    </tr>\n",
       "    <tr>\n",
       "      <th>9999</th>\n",
       "      <td>GHR: The Great Airspace Chase (2017)</td>\n",
       "      <td>adventure</td>\n",
       "      <td>Cruise the radio airwaves to assist the GHR (...</td>\n",
       "    </tr>\n",
       "  </tbody>\n",
       "</table>\n",
       "<p>10000 rows × 3 columns</p>\n",
       "</div>"
      ],
      "text/plain": [
       "                                                name       genre  \\\n",
       "0                      Oscar et la dame rose (2009)        drama   \n",
       "1                                      Cupid (1997)     thriller   \n",
       "2                  Young, Wild and Wonderful (1980)        adult   \n",
       "3                             The Secret Sin (1915)        drama   \n",
       "4                            The Unrecovered (2007)        drama   \n",
       "...                                              ...         ...   \n",
       "9995                 \"Friday Night Cranks\" (2007/I)   reality-tv   \n",
       "9996   Donkey in the City: 3D Animation Film (????)    animation   \n",
       "9997                                 Ashland (2007)        drama   \n",
       "9998                        Whispering Smith (1926)      western   \n",
       "9999           GHR: The Great Airspace Chase (2017)    adventure   \n",
       "\n",
       "                                                   text  \n",
       "0      Listening in to a conversation between his do...  \n",
       "1      A brother and sister with a past incestuous r...  \n",
       "2      As the bus empties the students for their fie...  \n",
       "3      To help their unemployed father make ends mee...  \n",
       "4      The film's title refers not only to the un-re...  \n",
       "...                                                 ...  \n",
       "9995   The show began with Jared and Kristen in 2007...  \n",
       "9996   The center characters of the film are two kid...  \n",
       "9997   Ashland is the story of Ash Slavin, a lonely ...  \n",
       "9998   Railroad foreman Murray Sinclair is dismissed...  \n",
       "9999   Cruise the radio airwaves to assist the GHR (...  \n",
       "\n",
       "[10000 rows x 3 columns]"
      ]
     },
     "execution_count": 25,
     "metadata": {},
     "output_type": "execute_result"
    }
   ],
   "source": [
    "data"
   ]
  },
  {
   "cell_type": "code",
   "execution_count": 26,
   "metadata": {
    "execution": {
     "iopub.execute_input": "2023-05-28T14:58:26.684096Z",
     "iopub.status.busy": "2023-05-28T14:58:26.683687Z",
     "iopub.status.idle": "2023-05-28T15:12:21.847611Z",
     "shell.execute_reply": "2023-05-28T15:12:21.846643Z",
     "shell.execute_reply.started": "2023-05-28T14:58:26.684066Z"
    }
   },
   "outputs": [
    {
     "data": {
      "application/vnd.jupyter.widget-view+json": {
       "model_id": "98132ee22c7048a9b1e183ec45bfe2e5",
       "version_major": 2,
       "version_minor": 0
      },
      "text/plain": [
       "Batches:   0%|          | 0/313 [00:00<?, ?it/s]"
      ]
     },
     "metadata": {},
     "output_type": "display_data"
    },
    {
     "name": "stderr",
     "output_type": "stream",
     "text": [
      "/opt/conda/lib/python3.10/site-packages/sklearn/cluster/_kmeans.py:870: FutureWarning: The default value of `n_init` will change from 10 to 'auto' in 1.4. Set the value of `n_init` explicitly to suppress the warning\n",
      "  warnings.warn(\n"
     ]
    }
   ],
   "source": [
    "from sentence_transformers import SentenceTransformer\n",
    "model_path = \"paraphrase-distilroberta-base-v1\"\n",
    "model = SentenceTransformer(model_path)\n",
    "corpus_embeddings = model.encode(data.text)\n",
    "from sklearn.cluster import KMeans\n",
    "import scipy\n",
    "kmeans = KMeans(n_clusters=10,random_state=0).fit(corpus_embeddings)\n",
    "cls_dist=pd.Series(kmeans.labels_).value_counts()"
   ]
  },
  {
   "cell_type": "code",
   "execution_count": 29,
   "metadata": {
    "execution": {
     "iopub.execute_input": "2023-05-28T15:13:19.048089Z",
     "iopub.status.busy": "2023-05-28T15:13:19.047649Z",
     "iopub.status.idle": "2023-05-28T15:13:19.229525Z",
     "shell.execute_reply": "2023-05-28T15:13:19.227846Z",
     "shell.execute_reply.started": "2023-05-28T15:13:19.048056Z"
    }
   },
   "outputs": [
    {
     "name": "stdout",
     "output_type": "stream",
     "text": [
      " \"Bonino\" (1953) \n"
     ]
    },
    {
     "data": {
      "application/vnd.jupyter.widget-view+json": {
       "model_id": "9b2f8721fe734c3abb0976a612a25e3e",
       "version_major": 2,
       "version_minor": 0
      },
      "text/plain": [
       "Batches:   0%|          | 0/1 [00:00<?, ?it/s]"
      ]
     },
     "metadata": {},
     "output_type": "display_data"
    },
    {
     "name": "stdout",
     "output_type": "stream",
     "text": [
      "                                             name        genre  \\\n",
      "6016                             Cactuses (2006)         drama   \n",
      "7725   Missing Allen - Wo ist Allen Ross? (2002)   documentary   \n",
      "2321                      Sincerely Yours (1955)         drama   \n",
      "3133                   Symphony of Living (1935)         drama   \n",
      "835                  \"The Great Zucchini\" (2013)        comedy   \n",
      "4604                         Dead Air (2008/III)      thriller   \n",
      "7194                            9th & Bay (2009)         drama   \n",
      "3229       Marty Robbins: Music Anthology (2008)         music   \n",
      "8117                          Habana muda (2011)   documentary   \n",
      "16                          Babylon Vista (2001)        comedy   \n",
      "\n",
      "                                                   text  \n",
      "6016   Simon Brodigan gives up on just about everyth...  \n",
      "7725   When beloved Chicago movie cameraman Allen Ro...  \n",
      "2321   Tony Warrin has it all: a popular pianist who...  \n",
      "3133   There is this old concertmaster of the Cosmop...  \n",
      "835    In the vein of Eastbound And Down and Louie, ...  \n",
      "4604   Rock, the director of a TV program about the ...  \n",
      "7194   An ex-professional fighter, born and raised i...  \n",
      "3229   Marty Robbins, a Country Music Hall of Fame i...  \n",
      "8117   Documentary Director E. Brach spent 3 years i...  \n",
      "16     Frankie Reno was a child star on a TV show. B...  \n",
      "CPU times: user 33 µs, sys: 1 µs, total: 34 µs\n",
      "Wall time: 17.6 µs\n"
     ]
    }
   ],
   "source": [
    "idx = 54209\n",
    "text = data1.loc[idx, \"text\"]\n",
    "print(data1.loc[idx]['name'])\n",
    "\n",
    "text_embedding = model.encode([text])\n",
    "\n",
    "\n",
    "cluster = kmeans.predict(text_embedding)[0]\n",
    "cluster_embeddings = corpus_embeddings[kmeans.labels_ == cluster]\n",
    "similarities = cosine_similarity(text_embedding, cluster_embeddings)\n",
    "top_indices = similarities.argsort()[0][-10:]\n",
    "top_neighbors = data.iloc[kmeans.labels_ == cluster].iloc[top_indices]\n",
    "\n",
    "print(top_neighbors)\n",
    "%time\n",
    "# Ваш код для замера времени исполнения\n"
   ]
  },
  {
   "cell_type": "code",
   "execution_count": 30,
   "metadata": {
    "execution": {
     "iopub.execute_input": "2023-05-28T15:14:49.683096Z",
     "iopub.status.busy": "2023-05-28T15:14:49.682626Z",
     "iopub.status.idle": "2023-05-28T15:19:10.220926Z",
     "shell.execute_reply": "2023-05-28T15:19:10.219965Z",
     "shell.execute_reply.started": "2023-05-28T15:14:49.683062Z"
    }
   },
   "outputs": [
    {
     "data": {
      "application/vnd.jupyter.widget-view+json": {
       "model_id": "0b0fdb1fcf7f45c2baad87967b719729",
       "version_major": 2,
       "version_minor": 0
      },
      "text/plain": [
       "Downloading (…)001fa/.gitattributes:   0%|          | 0.00/690 [00:00<?, ?B/s]"
      ]
     },
     "metadata": {},
     "output_type": "display_data"
    },
    {
     "data": {
      "application/vnd.jupyter.widget-view+json": {
       "model_id": "ae6086e43730482c871daac21cf2092d",
       "version_major": 2,
       "version_minor": 0
      },
      "text/plain": [
       "Downloading (…)_Pooling/config.json:   0%|          | 0.00/190 [00:00<?, ?B/s]"
      ]
     },
     "metadata": {},
     "output_type": "display_data"
    },
    {
     "data": {
      "application/vnd.jupyter.widget-view+json": {
       "model_id": "f2825b55d07f47c38c27ae3fc11f3bee",
       "version_major": 2,
       "version_minor": 0
      },
      "text/plain": [
       "Downloading (…)3bbb8001fa/README.md:   0%|          | 0.00/3.69k [00:00<?, ?B/s]"
      ]
     },
     "metadata": {},
     "output_type": "display_data"
    },
    {
     "data": {
      "application/vnd.jupyter.widget-view+json": {
       "model_id": "edd80e63dacf4daeb2d8c0c221896806",
       "version_major": 2,
       "version_minor": 0
      },
      "text/plain": [
       "Downloading (…)bb8001fa/config.json:   0%|          | 0.00/629 [00:00<?, ?B/s]"
      ]
     },
     "metadata": {},
     "output_type": "display_data"
    },
    {
     "data": {
      "application/vnd.jupyter.widget-view+json": {
       "model_id": "e45157087c81485b84ab00b66c04f82c",
       "version_major": 2,
       "version_minor": 0
      },
      "text/plain": [
       "Downloading (…)ce_transformers.json:   0%|          | 0.00/122 [00:00<?, ?B/s]"
      ]
     },
     "metadata": {},
     "output_type": "display_data"
    },
    {
     "data": {
      "application/vnd.jupyter.widget-view+json": {
       "model_id": "9ba0fe0daa044ceda518d9bd7a7ef914",
       "version_major": 2,
       "version_minor": 0
      },
      "text/plain": [
       "Downloading pytorch_model.bin:   0%|          | 0.00/90.9M [00:00<?, ?B/s]"
      ]
     },
     "metadata": {},
     "output_type": "display_data"
    },
    {
     "data": {
      "application/vnd.jupyter.widget-view+json": {
       "model_id": "1facc015004a4315be9738ffec6de3d9",
       "version_major": 2,
       "version_minor": 0
      },
      "text/plain": [
       "Downloading (…)nce_bert_config.json:   0%|          | 0.00/53.0 [00:00<?, ?B/s]"
      ]
     },
     "metadata": {},
     "output_type": "display_data"
    },
    {
     "data": {
      "application/vnd.jupyter.widget-view+json": {
       "model_id": "c51af810753c4844bff4c5c9d8bc3f98",
       "version_major": 2,
       "version_minor": 0
      },
      "text/plain": [
       "Downloading (…)cial_tokens_map.json:   0%|          | 0.00/112 [00:00<?, ?B/s]"
      ]
     },
     "metadata": {},
     "output_type": "display_data"
    },
    {
     "data": {
      "application/vnd.jupyter.widget-view+json": {
       "model_id": "62f65a00385e49ffb7db3de68427db04",
       "version_major": 2,
       "version_minor": 0
      },
      "text/plain": [
       "Downloading (…)001fa/tokenizer.json:   0%|          | 0.00/466k [00:00<?, ?B/s]"
      ]
     },
     "metadata": {},
     "output_type": "display_data"
    },
    {
     "data": {
      "application/vnd.jupyter.widget-view+json": {
       "model_id": "c2153b8e1a704c45b1dce8295339afc4",
       "version_major": 2,
       "version_minor": 0
      },
      "text/plain": [
       "Downloading (…)okenizer_config.json:   0%|          | 0.00/314 [00:00<?, ?B/s]"
      ]
     },
     "metadata": {},
     "output_type": "display_data"
    },
    {
     "data": {
      "application/vnd.jupyter.widget-view+json": {
       "model_id": "b5f22b98635c46d8848ee311cc6f040a",
       "version_major": 2,
       "version_minor": 0
      },
      "text/plain": [
       "Downloading (…)3bbb8001fa/vocab.txt:   0%|          | 0.00/232k [00:00<?, ?B/s]"
      ]
     },
     "metadata": {},
     "output_type": "display_data"
    },
    {
     "data": {
      "application/vnd.jupyter.widget-view+json": {
       "model_id": "a94b9d617652441bb209de30fe28d044",
       "version_major": 2,
       "version_minor": 0
      },
      "text/plain": [
       "Downloading (…)b8001fa/modules.json:   0%|          | 0.00/229 [00:00<?, ?B/s]"
      ]
     },
     "metadata": {},
     "output_type": "display_data"
    },
    {
     "data": {
      "application/vnd.jupyter.widget-view+json": {
       "model_id": "3548ad89165c4839aea93fd7444bb5cf",
       "version_major": 2,
       "version_minor": 0
      },
      "text/plain": [
       "Batches:   0%|          | 0/313 [00:00<?, ?it/s]"
      ]
     },
     "metadata": {},
     "output_type": "display_data"
    },
    {
     "name": "stderr",
     "output_type": "stream",
     "text": [
      "/opt/conda/lib/python3.10/site-packages/sklearn/cluster/_kmeans.py:870: FutureWarning: The default value of `n_init` will change from 10 to 'auto' in 1.4. Set the value of `n_init` explicitly to suppress the warning\n",
      "  warnings.warn(\n"
     ]
    }
   ],
   "source": [
    "from sentence_transformers import SentenceTransformer\n",
    "model_path = \"paraphrase-MiniLM-L6-v2\"\n",
    "model = SentenceTransformer(model_path)\n",
    "corpus_embeddings = model.encode(data.text)\n",
    "from sklearn.cluster import KMeans\n",
    "import scipy\n",
    "kmeans = KMeans(n_clusters=10,random_state=0).fit(corpus_embeddings)\n",
    "cls_dist=pd.Series(kmeans.labels_).value_counts()"
   ]
  },
  {
   "cell_type": "code",
   "execution_count": 33,
   "metadata": {
    "execution": {
     "iopub.execute_input": "2023-05-28T15:20:32.366050Z",
     "iopub.status.busy": "2023-05-28T15:20:32.365635Z",
     "iopub.status.idle": "2023-05-28T15:20:32.470797Z",
     "shell.execute_reply": "2023-05-28T15:20:32.469018Z",
     "shell.execute_reply.started": "2023-05-28T15:20:32.366018Z"
    }
   },
   "outputs": [
    {
     "name": "stdout",
     "output_type": "stream",
     "text": [
      " \"Bonino\" (1953) \n"
     ]
    },
    {
     "data": {
      "application/vnd.jupyter.widget-view+json": {
       "model_id": "5dff8d229fa049e0956f7e3722fce8d9",
       "version_major": 2,
       "version_minor": 0
      },
      "text/plain": [
       "Batches:   0%|          | 0/1 [00:00<?, ?it/s]"
      ]
     },
     "metadata": {},
     "output_type": "display_data"
    },
    {
     "name": "stdout",
     "output_type": "stream",
     "text": [
      "                                              name        genre  \\\n",
      "378                             Fight Club (1999)         drama   \n",
      "1667   Darker Secrets: Sideline Secrets II (2008)         drama   \n",
      "7594                       Quentin Amar Li (1999)        action   \n",
      "6294                          Matok Ve'Mar (2007)         drama   \n",
      "5041                    \"All Together Now\" (2003)        comedy   \n",
      "7144                             Wannabe (2005/I)        comedy   \n",
      "7730                        Run Ronnie Run (2002)        comedy   \n",
      "1504                                Bookie (2017)        comedy   \n",
      "9819                  She Couldn't Take It (1935)        comedy   \n",
      "1884                        Resident Alien (1990)   documentary   \n",
      "\n",
      "                                                   text  \n",
      "378    A nameless first person narrator ('Edward Nor...  \n",
      "1667   Peter, a young traffic cop, is asked to look ...  \n",
      "7594   All that Daniel ever wanted to do was to make...  \n",
      "6294   Ran directs a successful international invest...  \n",
      "5041   The story revolves around the three main cast...  \n",
      "7144   Steve Williams, from \"The Busboys\" fame, leav...  \n",
      "7730   Run Ronnie Run is a heart warming spin-off fr...  \n",
      "1504   Michael Yusko, a gambling addict with a drink...  \n",
      "9819   The wealthy Van Dyke family are constantly in...  \n",
      "1884   At age 73, writer and melancholy master of th...  \n",
      "CPU times: user 24 µs, sys: 1e+03 ns, total: 25 µs\n",
      "Wall time: 17.2 µs\n"
     ]
    }
   ],
   "source": [
    "idx = 54209\n",
    "text = data1.loc[idx, \"text\"]\n",
    "print(data1.loc[idx]['name'])\n",
    "\n",
    "text_embedding = model.encode([text])\n",
    "\n",
    "\n",
    "cluster = kmeans.predict(text_embedding)[0]\n",
    "cluster_embeddings = corpus_embeddings[kmeans.labels_ == cluster]\n",
    "similarities = cosine_similarity(text_embedding, cluster_embeddings)\n",
    "top_indices = similarities.argsort()[0][-10:]\n",
    "top_neighbors = data.iloc[kmeans.labels_ == cluster].iloc[top_indices]\n",
    "\n",
    "print(top_neighbors)\n",
    "%time\n",
    "# Ваш код для замера времени исполнения\n"
   ]
  },
  {
   "cell_type": "code",
   "execution_count": 34,
   "metadata": {
    "execution": {
     "iopub.execute_input": "2023-05-28T15:25:23.903687Z",
     "iopub.status.busy": "2023-05-28T15:25:23.902493Z",
     "iopub.status.idle": "2023-05-28T15:44:24.760011Z",
     "shell.execute_reply": "2023-05-28T15:44:24.759038Z",
     "shell.execute_reply.started": "2023-05-28T15:25:23.903647Z"
    }
   },
   "outputs": [
    {
     "data": {
      "application/vnd.jupyter.widget-view+json": {
       "model_id": "d2a72aec313240ddacfc30437f8f7f3e",
       "version_major": 2,
       "version_minor": 0
      },
      "text/plain": [
       "Downloading (…)80c06/.gitattributes:   0%|          | 0.00/1.09k [00:00<?, ?B/s]"
      ]
     },
     "metadata": {},
     "output_type": "display_data"
    },
    {
     "data": {
      "application/vnd.jupyter.widget-view+json": {
       "model_id": "adfbba0a5b314124817cb129324897d8",
       "version_major": 2,
       "version_minor": 0
      },
      "text/plain": [
       "Downloading (…)_Pooling/config.json:   0%|          | 0.00/190 [00:00<?, ?B/s]"
      ]
     },
     "metadata": {},
     "output_type": "display_data"
    },
    {
     "data": {
      "application/vnd.jupyter.widget-view+json": {
       "model_id": "27da2e1c5bf84fe2bdcdff6ebe1f714b",
       "version_major": 2,
       "version_minor": 0
      },
      "text/plain": [
       "Downloading (…)963a480c06/README.md:   0%|          | 0.00/3.68k [00:00<?, ?B/s]"
      ]
     },
     "metadata": {},
     "output_type": "display_data"
    },
    {
     "data": {
      "application/vnd.jupyter.widget-view+json": {
       "model_id": "2c302be5c8ed4765a8faf66084de0418",
       "version_major": 2,
       "version_minor": 0
      },
      "text/plain": [
       "Downloading (…)3a480c06/config.json:   0%|          | 0.00/675 [00:00<?, ?B/s]"
      ]
     },
     "metadata": {},
     "output_type": "display_data"
    },
    {
     "data": {
      "application/vnd.jupyter.widget-view+json": {
       "model_id": "77b26e86dfee451c926a8f9518815f70",
       "version_major": 2,
       "version_minor": 0
      },
      "text/plain": [
       "Downloading (…)ce_transformers.json:   0%|          | 0.00/122 [00:00<?, ?B/s]"
      ]
     },
     "metadata": {},
     "output_type": "display_data"
    },
    {
     "data": {
      "application/vnd.jupyter.widget-view+json": {
       "model_id": "7eba8f3f651c47ff9f46e3a32558a2f2",
       "version_major": 2,
       "version_minor": 0
      },
      "text/plain": [
       "Downloading (…)63a480c06/merges.txt:   0%|          | 0.00/456k [00:00<?, ?B/s]"
      ]
     },
     "metadata": {},
     "output_type": "display_data"
    },
    {
     "data": {
      "application/vnd.jupyter.widget-view+json": {
       "model_id": "45e8a5dc78554e10891330902e7d0cd1",
       "version_major": 2,
       "version_minor": 0
      },
      "text/plain": [
       "Downloading pytorch_model.bin:   0%|          | 0.00/499M [00:00<?, ?B/s]"
      ]
     },
     "metadata": {},
     "output_type": "display_data"
    },
    {
     "data": {
      "application/vnd.jupyter.widget-view+json": {
       "model_id": "b5abd669d75c49beb2cb71c0fa2c21d4",
       "version_major": 2,
       "version_minor": 0
      },
      "text/plain": [
       "Downloading (…)nce_bert_config.json:   0%|          | 0.00/52.0 [00:00<?, ?B/s]"
      ]
     },
     "metadata": {},
     "output_type": "display_data"
    },
    {
     "data": {
      "application/vnd.jupyter.widget-view+json": {
       "model_id": "c65b59e5679e4cb794486a6724578a2d",
       "version_major": 2,
       "version_minor": 0
      },
      "text/plain": [
       "Downloading (…)cial_tokens_map.json:   0%|          | 0.00/239 [00:00<?, ?B/s]"
      ]
     },
     "metadata": {},
     "output_type": "display_data"
    },
    {
     "data": {
      "application/vnd.jupyter.widget-view+json": {
       "model_id": "84230594073f4069ab815b235d4e18a8",
       "version_major": 2,
       "version_minor": 0
      },
      "text/plain": [
       "Downloading (…)80c06/tokenizer.json:   0%|          | 0.00/1.36M [00:00<?, ?B/s]"
      ]
     },
     "metadata": {},
     "output_type": "display_data"
    },
    {
     "data": {
      "application/vnd.jupyter.widget-view+json": {
       "model_id": "f7cbce53b5934547836683aa80cd76e0",
       "version_major": 2,
       "version_minor": 0
      },
      "text/plain": [
       "Downloading (…)okenizer_config.json:   0%|          | 0.00/1.11k [00:00<?, ?B/s]"
      ]
     },
     "metadata": {},
     "output_type": "display_data"
    },
    {
     "data": {
      "application/vnd.jupyter.widget-view+json": {
       "model_id": "18b75942643c4fcbb759533c3d3bbf87",
       "version_major": 2,
       "version_minor": 0
      },
      "text/plain": [
       "Downloading (…)63a480c06/vocab.json:   0%|          | 0.00/798k [00:00<?, ?B/s]"
      ]
     },
     "metadata": {},
     "output_type": "display_data"
    },
    {
     "data": {
      "application/vnd.jupyter.widget-view+json": {
       "model_id": "6ac6a798036a42bb8fce1f34efddb554",
       "version_major": 2,
       "version_minor": 0
      },
      "text/plain": [
       "Downloading (…)a480c06/modules.json:   0%|          | 0.00/229 [00:00<?, ?B/s]"
      ]
     },
     "metadata": {},
     "output_type": "display_data"
    },
    {
     "data": {
      "application/vnd.jupyter.widget-view+json": {
       "model_id": "ad4601be914c47d290b770ed79f55924",
       "version_major": 2,
       "version_minor": 0
      },
      "text/plain": [
       "Batches:   0%|          | 0/313 [00:00<?, ?it/s]"
      ]
     },
     "metadata": {},
     "output_type": "display_data"
    },
    {
     "name": "stderr",
     "output_type": "stream",
     "text": [
      "/opt/conda/lib/python3.10/site-packages/sklearn/cluster/_kmeans.py:870: FutureWarning: The default value of `n_init` will change from 10 to 'auto' in 1.4. Set the value of `n_init` explicitly to suppress the warning\n",
      "  warnings.warn(\n"
     ]
    }
   ],
   "source": [
    "from sentence_transformers import SentenceTransformer\n",
    "model_path = \"stsb-roberta-base-v2\"\n",
    "model = SentenceTransformer(model_path)\n",
    "corpus_embeddings = model.encode(data.text)\n",
    "from sklearn.cluster import KMeans\n",
    "import scipy\n",
    "kmeans = KMeans(n_clusters=10,random_state=0).fit(corpus_embeddings)\n",
    "cls_dist=pd.Series(kmeans.labels_).value_counts()"
   ]
  },
  {
   "cell_type": "code",
   "execution_count": 35,
   "metadata": {
    "execution": {
     "iopub.execute_input": "2023-05-28T15:45:35.143420Z",
     "iopub.status.busy": "2023-05-28T15:45:35.141470Z",
     "iopub.status.idle": "2023-05-28T15:45:35.396246Z",
     "shell.execute_reply": "2023-05-28T15:45:35.394492Z",
     "shell.execute_reply.started": "2023-05-28T15:45:35.143362Z"
    }
   },
   "outputs": [
    {
     "name": "stdout",
     "output_type": "stream",
     "text": [
      " \"Bonino\" (1953) \n"
     ]
    },
    {
     "data": {
      "application/vnd.jupyter.widget-view+json": {
       "model_id": "01e927d87b8e4165b96a3d673817d319",
       "version_major": 2,
       "version_minor": 0
      },
      "text/plain": [
       "Batches:   0%|          | 0/1 [00:00<?, ?it/s]"
      ]
     },
     "metadata": {},
     "output_type": "display_data"
    },
    {
     "name": "stdout",
     "output_type": "stream",
     "text": [
      "                                  name        genre  \\\n",
      "8617   Danny and the Human Zoo (2015)         drama   \n",
      "9195     Rafi Bukai, Aba Sheli (2012)   documentary   \n",
      "4064              Jungle Story (1996)         drama   \n",
      "9152    Soshite chichi ni naru (2013)         drama   \n",
      "2920          Five Easy Pieces (1970)         drama   \n",
      "9943         In from the Night (2006)         drama   \n",
      "7586                    Lifted (2010)         drama   \n",
      "3547         The Yellow Canary (1963)         drama   \n",
      "4977              \"Hey Dad..!\" (1987)        comedy   \n",
      "16               Babylon Vista (2001)        comedy   \n",
      "\n",
      "                                                   text  \n",
      "8617   In 1974 in Dudley in the English Midlands bla...  \n",
      "9195   Guy Bukaee was two years and four months old ...  \n",
      "4064   A fictitious account of the early years of th...  \n",
      "9152   Would you choose your natural son, or the son...  \n",
      "2920   Robert Dupea has given up his promising caree...  \n",
      "9943   After ten years without contact, Bobby Miller...  \n",
      "7586   Henry Matthews is an exceptionally talented y...  \n",
      "3547   Andy (Pat Boone) is an arrogant pop singer ab...  \n",
      "4977   Comedy series about a top architect, Martin K...  \n",
      "16     Frankie Reno was a child star on a TV show. B...  \n",
      "CPU times: user 33 µs, sys: 1e+03 ns, total: 34 µs\n",
      "Wall time: 16.9 µs\n"
     ]
    }
   ],
   "source": [
    "idx = 54209\n",
    "text = data1.loc[idx, \"text\"]\n",
    "print(data1.loc[idx]['name'])\n",
    "\n",
    "text_embedding = model.encode([text])\n",
    "\n",
    "\n",
    "cluster = kmeans.predict(text_embedding)[0]\n",
    "cluster_embeddings = corpus_embeddings[kmeans.labels_ == cluster]\n",
    "similarities = cosine_similarity(text_embedding, cluster_embeddings)\n",
    "top_indices = similarities.argsort()[0][-10:]\n",
    "top_neighbors = data.iloc[kmeans.labels_ == cluster].iloc[top_indices]\n",
    "\n",
    "print(top_neighbors)\n",
    "%time\n",
    "# Ваш код для замера времени исполнения"
   ]
  },
  {
   "cell_type": "code",
   "execution_count": 36,
   "metadata": {
    "execution": {
     "iopub.execute_input": "2023-05-28T15:48:56.786463Z",
     "iopub.status.busy": "2023-05-28T15:48:56.786003Z",
     "iopub.status.idle": "2023-05-28T16:03:39.742978Z",
     "shell.execute_reply": "2023-05-28T16:03:39.742000Z",
     "shell.execute_reply.started": "2023-05-28T15:48:56.786428Z"
    }
   },
   "outputs": [
    {
     "data": {
      "application/vnd.jupyter.widget-view+json": {
       "model_id": "e41930f5f3c144acabf5eed982985218",
       "version_major": 2,
       "version_minor": 0
      },
      "text/plain": [
       "Downloading (…)6015c/.gitattributes:   0%|          | 0.00/690 [00:00<?, ?B/s]"
      ]
     },
     "metadata": {},
     "output_type": "display_data"
    },
    {
     "data": {
      "application/vnd.jupyter.widget-view+json": {
       "model_id": "eced1295e0a24ae48def562cf5bd3a46",
       "version_major": 2,
       "version_minor": 0
      },
      "text/plain": [
       "Downloading (…)_Pooling/config.json:   0%|          | 0.00/190 [00:00<?, ?B/s]"
      ]
     },
     "metadata": {},
     "output_type": "display_data"
    },
    {
     "data": {
      "application/vnd.jupyter.widget-view+json": {
       "model_id": "608299a5bab14305b0dfbc6855586961",
       "version_major": 2,
       "version_minor": 0
      },
      "text/plain": [
       "Downloading (…)/2_Dense/config.json:   0%|          | 0.00/114 [00:00<?, ?B/s]"
      ]
     },
     "metadata": {},
     "output_type": "display_data"
    },
    {
     "data": {
      "application/vnd.jupyter.widget-view+json": {
       "model_id": "eb623c9c9c7e437e81e9d9ece0cd91cf",
       "version_major": 2,
       "version_minor": 0
      },
      "text/plain": [
       "Downloading pytorch_model.bin:   0%|          | 0.00/1.58M [00:00<?, ?B/s]"
      ]
     },
     "metadata": {},
     "output_type": "display_data"
    },
    {
     "data": {
      "application/vnd.jupyter.widget-view+json": {
       "model_id": "2da5a5f1a1f341f2b1f06d5b26ba67d0",
       "version_major": 2,
       "version_minor": 0
      },
      "text/plain": [
       "Downloading (…)ff6066015c/README.md:   0%|          | 0.00/2.38k [00:00<?, ?B/s]"
      ]
     },
     "metadata": {},
     "output_type": "display_data"
    },
    {
     "data": {
      "application/vnd.jupyter.widget-view+json": {
       "model_id": "dd7f0dad4e21494583e63890f310458e",
       "version_major": 2,
       "version_minor": 0
      },
      "text/plain": [
       "Downloading (…)6066015c/config.json:   0%|          | 0.00/610 [00:00<?, ?B/s]"
      ]
     },
     "metadata": {},
     "output_type": "display_data"
    },
    {
     "data": {
      "application/vnd.jupyter.widget-view+json": {
       "model_id": "3f32be58d8d249d596b7a9d14eb81d18",
       "version_major": 2,
       "version_minor": 0
      },
      "text/plain": [
       "Downloading (…)ce_transformers.json:   0%|          | 0.00/122 [00:00<?, ?B/s]"
      ]
     },
     "metadata": {},
     "output_type": "display_data"
    },
    {
     "data": {
      "application/vnd.jupyter.widget-view+json": {
       "model_id": "1493fcd1ca7b4a00bb04245f3eaf9b00",
       "version_major": 2,
       "version_minor": 0
      },
      "text/plain": [
       "Downloading pytorch_model.bin:   0%|          | 0.00/539M [00:00<?, ?B/s]"
      ]
     },
     "metadata": {},
     "output_type": "display_data"
    },
    {
     "data": {
      "application/vnd.jupyter.widget-view+json": {
       "model_id": "62c57587a3a945e4ae0864cd8893e423",
       "version_major": 2,
       "version_minor": 0
      },
      "text/plain": [
       "Downloading (…)nce_bert_config.json:   0%|          | 0.00/53.0 [00:00<?, ?B/s]"
      ]
     },
     "metadata": {},
     "output_type": "display_data"
    },
    {
     "data": {
      "application/vnd.jupyter.widget-view+json": {
       "model_id": "d75aeb6e225c4ad88a9660471abfc10b",
       "version_major": 2,
       "version_minor": 0
      },
      "text/plain": [
       "Downloading (…)cial_tokens_map.json:   0%|          | 0.00/112 [00:00<?, ?B/s]"
      ]
     },
     "metadata": {},
     "output_type": "display_data"
    },
    {
     "data": {
      "application/vnd.jupyter.widget-view+json": {
       "model_id": "abf03f9b670a47679ac2d3c1365eefdf",
       "version_major": 2,
       "version_minor": 0
      },
      "text/plain": [
       "Downloading (…)6015c/tokenizer.json:   0%|          | 0.00/1.96M [00:00<?, ?B/s]"
      ]
     },
     "metadata": {},
     "output_type": "display_data"
    },
    {
     "data": {
      "application/vnd.jupyter.widget-view+json": {
       "model_id": "67e49ee0c8a3465fbd2bccb1891bb698",
       "version_major": 2,
       "version_minor": 0
      },
      "text/plain": [
       "Downloading (…)okenizer_config.json:   0%|          | 0.00/531 [00:00<?, ?B/s]"
      ]
     },
     "metadata": {},
     "output_type": "display_data"
    },
    {
     "data": {
      "application/vnd.jupyter.widget-view+json": {
       "model_id": "1b3c9c6fc29f45c5a0cac70fc2633048",
       "version_major": 2,
       "version_minor": 0
      },
      "text/plain": [
       "Downloading (…)ff6066015c/vocab.txt:   0%|          | 0.00/996k [00:00<?, ?B/s]"
      ]
     },
     "metadata": {},
     "output_type": "display_data"
    },
    {
     "data": {
      "application/vnd.jupyter.widget-view+json": {
       "model_id": "84a23c5f4462458bb33fe26c2b54b500",
       "version_major": 2,
       "version_minor": 0
      },
      "text/plain": [
       "Downloading (…)066015c/modules.json:   0%|          | 0.00/341 [00:00<?, ?B/s]"
      ]
     },
     "metadata": {},
     "output_type": "display_data"
    },
    {
     "data": {
      "application/vnd.jupyter.widget-view+json": {
       "model_id": "d4a925210ad3444885ba794bd8f0403d",
       "version_major": 2,
       "version_minor": 0
      },
      "text/plain": [
       "Batches:   0%|          | 0/313 [00:00<?, ?it/s]"
      ]
     },
     "metadata": {},
     "output_type": "display_data"
    },
    {
     "name": "stderr",
     "output_type": "stream",
     "text": [
      "/opt/conda/lib/python3.10/site-packages/sklearn/cluster/_kmeans.py:870: FutureWarning: The default value of `n_init` will change from 10 to 'auto' in 1.4. Set the value of `n_init` explicitly to suppress the warning\n",
      "  warnings.warn(\n"
     ]
    }
   ],
   "source": [
    "from sentence_transformers import SentenceTransformer\n",
    "model_path = \"distiluse-base-multilingual-cased-v2\"\n",
    "model = SentenceTransformer(model_path)\n",
    "corpus_embeddings = model.encode(data.text)\n",
    "from sklearn.cluster import KMeans\n",
    "import scipy\n",
    "kmeans = KMeans(n_clusters=10,random_state=0).fit(corpus_embeddings)\n",
    "cls_dist=pd.Series(kmeans.labels_).value_counts()"
   ]
  },
  {
   "cell_type": "code",
   "execution_count": 38,
   "metadata": {
    "execution": {
     "iopub.execute_input": "2023-05-28T16:08:26.551316Z",
     "iopub.status.busy": "2023-05-28T16:08:26.550902Z",
     "iopub.status.idle": "2023-05-28T16:08:26.727972Z",
     "shell.execute_reply": "2023-05-28T16:08:26.726474Z",
     "shell.execute_reply.started": "2023-05-28T16:08:26.551286Z"
    }
   },
   "outputs": [
    {
     "name": "stdout",
     "output_type": "stream",
     "text": [
      " \"Bonino\" (1953) \n"
     ]
    },
    {
     "data": {
      "application/vnd.jupyter.widget-view+json": {
       "model_id": "865c3f8801084e78b76f064b90951ba9",
       "version_major": 2,
       "version_minor": 0
      },
      "text/plain": [
       "Batches:   0%|          | 0/1 [00:00<?, ?it/s]"
      ]
     },
     "metadata": {},
     "output_type": "display_data"
    },
    {
     "name": "stdout",
     "output_type": "stream",
     "text": [
      "                                                   name        genre  \\\n",
      "9704                               Live in Reno (2004)         music   \n",
      "5680   Perfect Bid: The Contestant Who Knew Too Much...  documentary   \n",
      "6140                             \"Johnnie Talk\" (2003)        comedy   \n",
      "3713   Kendall Ross Bean: Chopin Polonaise in A Flat...        music   \n",
      "4365   The Steve-O Video: Vol. II - The Tour Video (...       comedy   \n",
      "6578                          Square Dance Katy (1950)       musical   \n",
      "1916                  Tiny Tim: The Last Hurrah (2005)   documentary   \n",
      "4024                               Rocanrol '68 (2013)        comedy   \n",
      "6460                           Pop Punk Zombies (2011)        horror   \n",
      "7730                             Run Ronnie Run (2002)        comedy   \n",
      "\n",
      "                                                   text  \n",
      "9704   The Orchestra/Live in Reno is a concert film ...  \n",
      "5680   Winner of \"Best Documentary\" at the Orlando F...  \n",
      "6140   On Johnnie Talk, our host Johnnie (who's face...  \n",
      "3713   Kendall Ross Bean, concert pianist and compos...  \n",
      "4365   He's back! Steve-O of Jackass and CKY fame pr...  \n",
      "6578   Bob Carson, a talent-scout for a soap-company...  \n",
      "1916   In 1968, armed with a ukulele, a falsetto voi...  \n",
      "4024   It is 1968 and Guille and Bobby, two friends ...  \n",
      "6460   A high powered music agent brings three recen...  \n",
      "7730   Run Ronnie Run is a heart warming spin-off fr...  \n",
      "CPU times: user 25 µs, sys: 0 ns, total: 25 µs\n",
      "Wall time: 16.2 µs\n"
     ]
    }
   ],
   "source": [
    "idx = 54209\n",
    "text = data1.loc[idx, \"text\"]\n",
    "print(data1.loc[idx]['name'])\n",
    "\n",
    "text_embedding = model.encode([text])\n",
    "\n",
    "\n",
    "cluster = kmeans.predict(text_embedding)[0]\n",
    "cluster_embeddings = corpus_embeddings[kmeans.labels_ == cluster]\n",
    "similarities = cosine_similarity(text_embedding, cluster_embeddings)\n",
    "top_indices = similarities.argsort()[0][-10:]\n",
    "top_neighbors = data.iloc[kmeans.labels_ == cluster].iloc[top_indices]\n",
    "\n",
    "print(top_neighbors)\n",
    "%time\n",
    "# Ваш код для замера времени исполнения"
   ]
  },
  {
   "cell_type": "code",
   "execution_count": null,
   "metadata": {},
   "outputs": [],
   "source": []
  },
  {
   "cell_type": "code",
   "execution_count": 39,
   "metadata": {
    "execution": {
     "iopub.execute_input": "2023-05-28T16:12:29.739187Z",
     "iopub.status.busy": "2023-05-28T16:12:29.738751Z",
     "iopub.status.idle": "2023-05-28T16:40:01.982748Z",
     "shell.execute_reply": "2023-05-28T16:40:01.981451Z",
     "shell.execute_reply.started": "2023-05-28T16:12:29.739158Z"
    }
   },
   "outputs": [
    {
     "data": {
      "application/vnd.jupyter.widget-view+json": {
       "model_id": "ec12025d1d584313a1b3b14d76bf2bcf",
       "version_major": 2,
       "version_minor": 0
      },
      "text/plain": [
       "Downloading (…)821d1/.gitattributes:   0%|          | 0.00/391 [00:00<?, ?B/s]"
      ]
     },
     "metadata": {},
     "output_type": "display_data"
    },
    {
     "data": {
      "application/vnd.jupyter.widget-view+json": {
       "model_id": "bc2b068a326f459cb15ee615491c1fc0",
       "version_major": 2,
       "version_minor": 0
      },
      "text/plain": [
       "Downloading (…)_Pooling/config.json:   0%|          | 0.00/190 [00:00<?, ?B/s]"
      ]
     },
     "metadata": {},
     "output_type": "display_data"
    },
    {
     "data": {
      "application/vnd.jupyter.widget-view+json": {
       "model_id": "6714661e381d4040b16c910564f98ebd",
       "version_major": 2,
       "version_minor": 0
      },
      "text/plain": [
       "Downloading (…)8d01e821d1/README.md:   0%|          | 0.00/3.95k [00:00<?, ?B/s]"
      ]
     },
     "metadata": {},
     "output_type": "display_data"
    },
    {
     "data": {
      "application/vnd.jupyter.widget-view+json": {
       "model_id": "878ac1972c2b480fb16f73d7b1ab4e32",
       "version_major": 2,
       "version_minor": 0
      },
      "text/plain": [
       "Downloading (…)d1/added_tokens.json:   0%|          | 0.00/2.00 [00:00<?, ?B/s]"
      ]
     },
     "metadata": {},
     "output_type": "display_data"
    },
    {
     "data": {
      "application/vnd.jupyter.widget-view+json": {
       "model_id": "f0a2f03d3bc944db851d50ed5f5c1d27",
       "version_major": 2,
       "version_minor": 0
      },
      "text/plain": [
       "Downloading (…)01e821d1/config.json:   0%|          | 0.00/625 [00:00<?, ?B/s]"
      ]
     },
     "metadata": {},
     "output_type": "display_data"
    },
    {
     "data": {
      "application/vnd.jupyter.widget-view+json": {
       "model_id": "381cda8ace2a4eb79e36425361c59b28",
       "version_major": 2,
       "version_minor": 0
      },
      "text/plain": [
       "Downloading (…)ce_transformers.json:   0%|          | 0.00/122 [00:00<?, ?B/s]"
      ]
     },
     "metadata": {},
     "output_type": "display_data"
    },
    {
     "data": {
      "application/vnd.jupyter.widget-view+json": {
       "model_id": "e2df83b617db4c6cb38ccb9a18649399",
       "version_major": 2,
       "version_minor": 0
      },
      "text/plain": [
       "Downloading pytorch_model.bin:   0%|          | 0.00/438M [00:00<?, ?B/s]"
      ]
     },
     "metadata": {},
     "output_type": "display_data"
    },
    {
     "data": {
      "application/vnd.jupyter.widget-view+json": {
       "model_id": "e72334f1dede485fa7ed08173fa7e62a",
       "version_major": 2,
       "version_minor": 0
      },
      "text/plain": [
       "Downloading (…)nce_bert_config.json:   0%|          | 0.00/53.0 [00:00<?, ?B/s]"
      ]
     },
     "metadata": {},
     "output_type": "display_data"
    },
    {
     "data": {
      "application/vnd.jupyter.widget-view+json": {
       "model_id": "cbf4272378244312982b26a4ba618f26",
       "version_major": 2,
       "version_minor": 0
      },
      "text/plain": [
       "Downloading (…)cial_tokens_map.json:   0%|          | 0.00/112 [00:00<?, ?B/s]"
      ]
     },
     "metadata": {},
     "output_type": "display_data"
    },
    {
     "data": {
      "application/vnd.jupyter.widget-view+json": {
       "model_id": "f7b8c896cee94c288d5d915bff55a443",
       "version_major": 2,
       "version_minor": 0
      },
      "text/plain": [
       "Downloading (…)821d1/tokenizer.json:   0%|          | 0.00/466k [00:00<?, ?B/s]"
      ]
     },
     "metadata": {},
     "output_type": "display_data"
    },
    {
     "data": {
      "application/vnd.jupyter.widget-view+json": {
       "model_id": "b233a9a024d141a386af27e12890c4ed",
       "version_major": 2,
       "version_minor": 0
      },
      "text/plain": [
       "Downloading (…)okenizer_config.json:   0%|          | 0.00/399 [00:00<?, ?B/s]"
      ]
     },
     "metadata": {},
     "output_type": "display_data"
    },
    {
     "data": {
      "application/vnd.jupyter.widget-view+json": {
       "model_id": "3a57d63f481b423a81f66f0f5eadbd69",
       "version_major": 2,
       "version_minor": 0
      },
      "text/plain": [
       "Downloading (…)8d01e821d1/vocab.txt:   0%|          | 0.00/232k [00:00<?, ?B/s]"
      ]
     },
     "metadata": {},
     "output_type": "display_data"
    },
    {
     "data": {
      "application/vnd.jupyter.widget-view+json": {
       "model_id": "4127ced3866e48c2afa42e20dba109ec",
       "version_major": 2,
       "version_minor": 0
      },
      "text/plain": [
       "Downloading (…)1e821d1/modules.json:   0%|          | 0.00/229 [00:00<?, ?B/s]"
      ]
     },
     "metadata": {},
     "output_type": "display_data"
    },
    {
     "data": {
      "application/vnd.jupyter.widget-view+json": {
       "model_id": "e0adee02e3694a649c92603fbd3f443a",
       "version_major": 2,
       "version_minor": 0
      },
      "text/plain": [
       "Batches:   0%|          | 0/313 [00:00<?, ?it/s]"
      ]
     },
     "metadata": {},
     "output_type": "display_data"
    },
    {
     "name": "stderr",
     "output_type": "stream",
     "text": [
      "/opt/conda/lib/python3.10/site-packages/sklearn/cluster/_kmeans.py:870: FutureWarning: The default value of `n_init` will change from 10 to 'auto' in 1.4. Set the value of `n_init` explicitly to suppress the warning\n",
      "  warnings.warn(\n"
     ]
    }
   ],
   "source": [
    "from sentence_transformers import SentenceTransformer\n",
    "model_path = \"bert-base-nli-mean-tokens\"\n",
    "model = SentenceTransformer(model_path)\n",
    "corpus_embeddings = model.encode(data.text)\n",
    "from sklearn.cluster import KMeans\n",
    "import scipy\n",
    "kmeans = KMeans(n_clusters=10,random_state=0).fit(corpus_embeddings)\n",
    "cls_dist=pd.Series(kmeans.labels_).value_counts()"
   ]
  },
  {
   "cell_type": "code",
   "execution_count": 40,
   "metadata": {
    "execution": {
     "iopub.execute_input": "2023-05-28T16:40:39.391077Z",
     "iopub.status.busy": "2023-05-28T16:40:39.390615Z",
     "iopub.status.idle": "2023-05-28T16:40:39.745600Z",
     "shell.execute_reply": "2023-05-28T16:40:39.743788Z",
     "shell.execute_reply.started": "2023-05-28T16:40:39.391045Z"
    }
   },
   "outputs": [
    {
     "name": "stdout",
     "output_type": "stream",
     "text": [
      " \"Bonino\" (1953) \n"
     ]
    },
    {
     "data": {
      "application/vnd.jupyter.widget-view+json": {
       "model_id": "ec7e9234189448c9ab79ad10d89b8658",
       "version_major": 2,
       "version_minor": 0
      },
      "text/plain": [
       "Batches:   0%|          | 0/1 [00:00<?, ?it/s]"
      ]
     },
     "metadata": {},
     "output_type": "display_data"
    },
    {
     "name": "stdout",
     "output_type": "stream",
     "text": [
      "                                name  genre  \\\n",
      "2649      Looking for Sunday (2006)   drama   \n",
      "8808        Come Next Spring (1956)   drama   \n",
      "6194         Unknown Soldier (2004)   drama   \n",
      "8943           De ooggetuige (1995)   drama   \n",
      "9943       In from the Night (2006)   drama   \n",
      "4167                   Bingo (1974)   drama   \n",
      "4061      American Dream (2008/III)   short   \n",
      "2920        Five Easy Pieces (1970)   drama   \n",
      "0      Oscar et la dame rose (2009)   drama   \n",
      "9376                 Azzurro (2000)   drama   \n",
      "\n",
      "                                                   text  \n",
      "2649   Like many young men in their mid-twenties, tw...  \n",
      "8808   Matt Ballot has returned home after 12 years ...  \n",
      "6194   Ellison (aka L) just graduated high school an...  \n",
      "8943   Paul was blinded in an accident when he was f...  \n",
      "9943   After ten years without contact, Bobby Miller...  \n",
      "4167   Photography student François leads a mostly c...  \n",
      "4061   Miguel lived a very simple happy life with hi...  \n",
      "2920   Robert Dupea has given up his promising caree...  \n",
      "0      Listening in to a conversation between his do...  \n",
      "9376   75-year-old Giuseppe De Metrio has spent 30 y...  \n",
      "CPU times: user 27 µs, sys: 0 ns, total: 27 µs\n",
      "Wall time: 17.4 µs\n"
     ]
    }
   ],
   "source": [
    "idx = 54209\n",
    "text = data1.loc[idx, \"text\"]\n",
    "print(data1.loc[idx]['name'])\n",
    "\n",
    "text_embedding = model.encode([text])\n",
    "\n",
    "\n",
    "cluster = kmeans.predict(text_embedding)[0]\n",
    "cluster_embeddings = corpus_embeddings[kmeans.labels_ == cluster]\n",
    "similarities = cosine_similarity(text_embedding, cluster_embeddings)\n",
    "top_indices = similarities.argsort()[0][-10:]\n",
    "top_neighbors = data.iloc[kmeans.labels_ == cluster].iloc[top_indices]\n",
    "\n",
    "print(top_neighbors)\n",
    "%time\n",
    "# Ваш код для замера времени исполнения"
   ]
  },
  {
   "cell_type": "code",
   "execution_count": 41,
   "metadata": {
    "execution": {
     "iopub.execute_input": "2023-05-28T16:40:50.377247Z",
     "iopub.status.busy": "2023-05-28T16:40:50.376813Z",
     "iopub.status.idle": "2023-05-28T17:08:07.321291Z",
     "shell.execute_reply": "2023-05-28T17:08:07.320240Z",
     "shell.execute_reply.started": "2023-05-28T16:40:50.377212Z"
    }
   },
   "outputs": [
    {
     "data": {
      "application/vnd.jupyter.widget-view+json": {
       "model_id": "e7d8cbea8e724f27abff90753a99b22f",
       "version_major": 2,
       "version_minor": 0
      },
      "text/plain": [
       "Batches:   0%|          | 0/313 [00:00<?, ?it/s]"
      ]
     },
     "metadata": {},
     "output_type": "display_data"
    },
    {
     "name": "stderr",
     "output_type": "stream",
     "text": [
      "/opt/conda/lib/python3.10/site-packages/sklearn/cluster/_kmeans.py:870: FutureWarning: The default value of `n_init` will change from 10 to 'auto' in 1.4. Set the value of `n_init` explicitly to suppress the warning\n",
      "  warnings.warn(\n"
     ]
    }
   ],
   "source": [
    "from sentence_transformers import SentenceTransformer\n",
    "model_path = \"bert-base-nli-mean-tokens\"\n",
    "model = SentenceTransformer(model_path)\n",
    "corpus_embeddings = model.encode(data.text)\n",
    "from sklearn.cluster import KMeans\n",
    "import scipy\n",
    "kmeans = KMeans(n_clusters=30,random_state=0).fit(corpus_embeddings)\n",
    "cls_dist=pd.Series(kmeans.labels_).value_counts()"
   ]
  },
  {
   "cell_type": "code",
   "execution_count": 43,
   "metadata": {
    "execution": {
     "iopub.execute_input": "2023-05-28T17:13:50.253004Z",
     "iopub.status.busy": "2023-05-28T17:13:50.252557Z",
     "iopub.status.idle": "2023-05-28T17:13:50.685975Z",
     "shell.execute_reply": "2023-05-28T17:13:50.681626Z",
     "shell.execute_reply.started": "2023-05-28T17:13:50.252965Z"
    }
   },
   "outputs": [
    {
     "name": "stdout",
     "output_type": "stream",
     "text": [
      " \"Bonino\" (1953) \n"
     ]
    },
    {
     "data": {
      "application/vnd.jupyter.widget-view+json": {
       "model_id": "24542f46f92e4df6b2462d206dfea5de",
       "version_major": 2,
       "version_minor": 0
      },
      "text/plain": [
       "Batches:   0%|          | 0/1 [00:00<?, ?it/s]"
      ]
     },
     "metadata": {},
     "output_type": "display_data"
    },
    {
     "name": "stdout",
     "output_type": "stream",
     "text": [
      "                             name   genre  \\\n",
      "6194      Unknown Soldier (2004)    drama   \n",
      "9878      Le bel été 1914 (1996)    drama   \n",
      "7586               Lifted (2010)    drama   \n",
      "8943        De ooggetuige (1995)    drama   \n",
      "4167                Bingo (1974)    drama   \n",
      "4061   American Dream (2008/III)    short   \n",
      "492            The Limits (2007)    drama   \n",
      "2920     Five Easy Pieces (1970)    drama   \n",
      "9376              Azzurro (2000)    drama   \n",
      "4977         \"Hey Dad..!\" (1987)   comedy   \n",
      "\n",
      "                                                   text  \n",
      "6194   Ellison (aka L) just graduated high school an...  \n",
      "9878   A couple take their son for the holidays to a...  \n",
      "7586   Henry Matthews is an exceptionally talented y...  \n",
      "8943   Paul was blinded in an accident when he was f...  \n",
      "4167   Photography student François leads a mostly c...  \n",
      "4061   Miguel lived a very simple happy life with hi...  \n",
      "492    Sanjeet is an Electrical Engineer from Bombay...  \n",
      "2920   Robert Dupea has given up his promising caree...  \n",
      "9376   75-year-old Giuseppe De Metrio has spent 30 y...  \n",
      "4977   Comedy series about a top architect, Martin K...  \n",
      "CPU times: user 28 µs, sys: 0 ns, total: 28 µs\n",
      "Wall time: 17.9 µs\n"
     ]
    }
   ],
   "source": [
    "idx = 54209\n",
    "text = data1.loc[idx, \"text\"]\n",
    "print(data1.loc[idx]['name'])\n",
    "\n",
    "text_embedding = model.encode([text])\n",
    "\n",
    "\n",
    "cluster = kmeans.predict(text_embedding)[0]\n",
    "cluster_embeddings = corpus_embeddings[kmeans.labels_ == cluster]\n",
    "similarities = cosine_similarity(text_embedding, cluster_embeddings)\n",
    "top_indices = similarities.argsort()[0][-10:]\n",
    "top_neighbors = data.iloc[kmeans.labels_ == cluster].iloc[top_indices]\n",
    "\n",
    "print(top_neighbors)\n",
    "%time\n",
    "# Ваш код для замера времени исполнения"
   ]
  },
  {
   "cell_type": "code",
   "execution_count": 44,
   "metadata": {
    "execution": {
     "iopub.execute_input": "2023-05-28T17:14:02.165199Z",
     "iopub.status.busy": "2023-05-28T17:14:02.164762Z",
     "iopub.status.idle": "2023-05-28T17:41:05.719421Z",
     "shell.execute_reply": "2023-05-28T17:41:05.718482Z",
     "shell.execute_reply.started": "2023-05-28T17:14:02.165168Z"
    }
   },
   "outputs": [
    {
     "data": {
      "application/vnd.jupyter.widget-view+json": {
       "model_id": "af82dc866766478d957ea0eec87d428c",
       "version_major": 2,
       "version_minor": 0
      },
      "text/plain": [
       "Batches:   0%|          | 0/313 [00:00<?, ?it/s]"
      ]
     },
     "metadata": {},
     "output_type": "display_data"
    },
    {
     "name": "stderr",
     "output_type": "stream",
     "text": [
      "/opt/conda/lib/python3.10/site-packages/sklearn/cluster/_kmeans.py:870: FutureWarning: The default value of `n_init` will change from 10 to 'auto' in 1.4. Set the value of `n_init` explicitly to suppress the warning\n",
      "  warnings.warn(\n"
     ]
    }
   ],
   "source": [
    "from sentence_transformers import SentenceTransformer\n",
    "model_path = \"bert-base-nli-mean-tokens\"\n",
    "model = SentenceTransformer(model_path)\n",
    "corpus_embeddings = model.encode(data.text)\n",
    "from sklearn.cluster import KMeans\n",
    "import scipy\n",
    "kmeans = KMeans(n_clusters=5,random_state=0).fit(corpus_embeddings)\n",
    "cls_dist=pd.Series(kmeans.labels_).value_counts()"
   ]
  },
  {
   "cell_type": "code",
   "execution_count": 45,
   "metadata": {
    "execution": {
     "iopub.execute_input": "2023-05-28T17:44:18.076238Z",
     "iopub.status.busy": "2023-05-28T17:44:18.075773Z",
     "iopub.status.idle": "2023-05-28T17:44:18.404615Z",
     "shell.execute_reply": "2023-05-28T17:44:18.401052Z",
     "shell.execute_reply.started": "2023-05-28T17:44:18.076204Z"
    }
   },
   "outputs": [
    {
     "name": "stdout",
     "output_type": "stream",
     "text": [
      " \"Bonino\" (1953) \n"
     ]
    },
    {
     "data": {
      "application/vnd.jupyter.widget-view+json": {
       "model_id": "eb7966be94cd4e7096dd6f55215333d2",
       "version_major": 2,
       "version_minor": 0
      },
      "text/plain": [
       "Batches:   0%|          | 0/1 [00:00<?, ?it/s]"
      ]
     },
     "metadata": {},
     "output_type": "display_data"
    },
    {
     "name": "stdout",
     "output_type": "stream",
     "text": [
      "                                                name   genre  \\\n",
      "3640                     Capture the Flag (2010/II)    short   \n",
      "2920                        Five Easy Pieces (1970)    drama   \n",
      "0                      Oscar et la dame rose (2009)    drama   \n",
      "3133                      Symphony of Living (1935)    drama   \n",
      "5621             How to Make Love to a Woman (2010)   comedy   \n",
      "6660                          I'm Losing You (1998)    drama   \n",
      "9376                                 Azzurro (2000)    drama   \n",
      "4977                            \"Hey Dad..!\" (1987)   comedy   \n",
      "8429                               Santa Con (2014)   comedy   \n",
      "8737   National Lampoon's Christmas Vacation (1989)   comedy   \n",
      "\n",
      "                                                   text  \n",
      "3640   Adapted from the novel by Rebecca Chace, Capt...  \n",
      "2920   Robert Dupea has given up his promising caree...  \n",
      "0      Listening in to a conversation between his do...  \n",
      "3133   There is this old concertmaster of the Cosmop...  \n",
      "5621   In Los Angeles, Andy Conners works in Fearles...  \n",
      "6660   Nearing his 60th birthday, a movie producer d...  \n",
      "9376   75-year-old Giuseppe De Metrio has spent 30 y...  \n",
      "4977   Comedy series about a top architect, Martin K...  \n",
      "8429   Small-time con man Nick DeMarco is ordered by...  \n",
      "8737   It's Christmas time and the Griswolds are pre...  \n",
      "CPU times: user 0 ns, sys: 22 µs, total: 22 µs\n",
      "Wall time: 15.7 µs\n"
     ]
    }
   ],
   "source": [
    "idx = 54209\n",
    "text = data1.loc[idx, \"text\"]\n",
    "print(data1.loc[idx]['name'])\n",
    "\n",
    "text_embedding = model.encode([text])\n",
    "\n",
    "\n",
    "cluster = kmeans.predict(text_embedding)[0]\n",
    "cluster_embeddings = corpus_embeddings[kmeans.labels_ == cluster]\n",
    "similarities = cosine_similarity(text_embedding, cluster_embeddings)\n",
    "top_indices = similarities.argsort()[0][-10:]\n",
    "top_neighbors = data.iloc[kmeans.labels_ == cluster].iloc[top_indices]\n",
    "\n",
    "print(top_neighbors)\n",
    "%time\n",
    "# Ваш код для замера времени исполнения"
   ]
  }
 ],
 "metadata": {
  "kernelspec": {
   "display_name": "Python 3 (ipykernel)",
   "language": "python",
   "name": "python3"
  },
  "language_info": {
   "codemirror_mode": {
    "name": "ipython",
    "version": 3
   },
   "file_extension": ".py",
   "mimetype": "text/x-python",
   "name": "python",
   "nbconvert_exporter": "python",
   "pygments_lexer": "ipython3",
   "version": "3.10.9"
  }
 },
 "nbformat": 4,
 "nbformat_minor": 4
}
